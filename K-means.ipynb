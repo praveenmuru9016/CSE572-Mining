{
 "cells": [
  {
   "cell_type": "code",
   "execution_count": 1,
   "metadata": {},
   "outputs": [],
   "source": [
    "import pandas as pd\n",
    "import numpy as np\n",
    "import random\n",
    "import math\n",
    "from copy import deepcopy\n",
    "import random\n",
    "import matplotlib.pyplot as plt"
   ]
  },
  {
   "cell_type": "code",
   "execution_count": 2,
   "metadata": {},
   "outputs": [],
   "source": [
    "def distance(a, b, ax=1):\n",
    "    return np.linalg.norm(a - b, axis=ax)"
   ]
  },
  {
   "cell_type": "code",
   "execution_count": 3,
   "metadata": {},
   "outputs": [],
   "source": [
    "data_frame = pd.read_csv('../Assignment-1/overdoses.csv', delimiter = ',')\n",
    "\n",
    "data_frame['Population'] = data_frame['Population'].str.replace(',', '')\n",
    "data_frame['Deaths'] = data_frame['Deaths'].str.replace(',', '')\n",
    "data_frame[data_frame.columns[1:3]] = data_frame[data_frame.columns[1:3]].astype(float)\n",
    "\n",
    "population_deaths_data = data_frame[['Population', 'Deaths']]"
   ]
  },
  {
   "cell_type": "code",
   "execution_count": 40,
   "metadata": {
    "scrolled": true
   },
   "outputs": [],
   "source": [
    "l = []\n",
    "for k in range(2,16):\n",
    "    final = []\n",
    "    for time in range(100):\n",
    "        max_itr = 100\n",
    "        clusters = {}\n",
    "        centroids = np.zeros((k,population_deaths_data.shape[1]))\n",
    "        C_index = random.sample(range(population_deaths_data.shape[0]), k)\n",
    "        C = population_deaths_data.values[C_index, :]\n",
    "        _c = np.zeros(C.shape)\n",
    "\n",
    "        itr = 0\n",
    "        while(distance(C,_c, None) > 0.0001):\n",
    "            for i in range(k):\n",
    "                clusters[i] = []\n",
    "\n",
    "            if itr == max_itr:\n",
    "                break\n",
    "\n",
    "            for i in range(population_deaths_data.shape[0]):\n",
    "                assigned_cluster = np.argmin(distance(population_deaths_data.values[i,:], C))\n",
    "                clusters[assigned_cluster].append(i)\n",
    "\n",
    "            _c = deepcopy(C)\n",
    "\n",
    "            for i in range(k):\n",
    "                C[i] = np.mean(population_deaths_data.values[clusters[i]], axis = 0)\n",
    "\n",
    "            itr += 1\n",
    "    #     print(C)\n",
    "\n",
    "        '''\n",
    "        Calculating Objective Function\n",
    "        '''\n",
    "        L = 0\n",
    "        for i in range(k):\n",
    "            temp_data = population_deaths_data.values[clusters[i], :]\n",
    "    #         print(temp_data.shape)\n",
    "            for j in range(temp_data.shape[0]):\n",
    "                L += math.pow(distance(temp_data[j], C[i], ax=0),2)\n",
    "        final.append(L)\n",
    "    l.append(min(final))"
   ]
  },
  {
   "cell_type": "code",
   "execution_count": 41,
   "metadata": {},
   "outputs": [
    {
     "data": {
      "image/png": "[encoded data removed]",
      "text/plain": [
       "<Figure size 720x720 with 1 Axes>"
      ]
     },
     "metadata": {
      "needs_background": "light"
     },
     "output_type": "display_data"
    }
   ],
   "source": [
    "plt.figure(figsize=(10, 10))\n",
    "plt.plot(np.arange(2,16,1), l)\n",
    "plt.xticks(np.arange(2,16,1))\n",
    "plt.show()"
   ]
  },
  {
   "cell_type": "code",
   "execution_count": 6,
   "metadata": {},
   "outputs": [
    {
     "data": {
      "text/plain": [
       "[758191953007749.0,\n",
       " 387646740549011.5,\n",
       " 290288478673405.75,\n",
       " 180602527594782.88,\n",
       " 105137064812311.95,\n",
       " 263652429789914.7,\n",
       " 254963207682097.5,\n",
       " 92830187220087.33,\n",
       " 847573615708198.2,\n",
       " 254349262333957.6,\n",
       " 251985217123067.12,\n",
       " 239257343557208.44,\n",
       " 238118647924281.44,\n",
       " 35120155951536.09]"
      ]
     },
     "execution_count": 6,
     "metadata": {},
     "output_type": "execute_result"
    }
   ],
   "source": [
    "final"
   ]
  },
  {
   "cell_type": "code",
   "execution_count": null,
   "metadata": {},
   "outputs": [],
   "source": []
  }
 ],
 "metadata": {
  "kernelspec": {
   "display_name": "Python 3",
   "language": "python",
   "name": "python3"
  },
  "language_info": {
   "codemirror_mode": {
    "name": "ipython",
    "version": 3
   },
   "file_extension": ".py",
   "mimetype": "text/x-python",
   "name": "python",
   "nbconvert_exporter": "python",
   "pygments_lexer": "ipython3",
   "version": "3.7.1"
  }
 },
 "nbformat": 4,
 "nbformat_minor": 2
}

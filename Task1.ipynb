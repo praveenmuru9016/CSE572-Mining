{
 "cells": [
  {
   "cell_type": "code",
   "execution_count": 153,
   "metadata": {},
   "outputs": [],
   "source": [
    "import pandas as pd\n",
    "import numpy as np\n",
    "import random\n",
    "import math\n",
    "from copy import deepcopy\n",
    "import random\n",
    "import matplotlib.pyplot as plt"
   ]
  },
  {
   "cell_type": "code",
   "execution_count": 154,
   "metadata": {},
   "outputs": [],
   "source": [
    "def distance(a, b, ax=1):\n",
    "    return np.linalg.norm(a - b, axis=ax)"
   ]
  },
  {
   "cell_type": "code",
   "execution_count": 155,
   "metadata": {},
   "outputs": [
    {
     "data": {
      "text/plain": [
       "(50, 2)"
      ]
     },
     "execution_count": 155,
     "metadata": {},
     "output_type": "execute_result"
    }
   ],
   "source": [
    "data_frame = pd.read_csv('overdoses.csv', delimiter = ',')\n",
    "data_frame['Population'] = data_frame['Population'].str.replace(',', '')\n",
    "data_frame['Deaths'] = data_frame['Deaths'].str.replace(',', '')\n",
    "data_frame[data_frame.columns[1:3]] = data_frame[data_frame.columns[1:3]].astype(float)\n",
    "population_deaths_data = data_frame[['Population', 'Deaths']]\n",
    "population_deaths_data.shape\n"
   ]
  },
  {
   "cell_type": "code",
   "execution_count": 162,
   "metadata": {
    "scrolled": true
   },
   "outputs": [
    {
     "name": "stdout",
     "output_type": "stream",
     "text": [
      "No of Clusters(k) = 5\n",
      "Cluster- 0 : [4, 42]\n",
      "Cluster- 1 : [0, 3, 5, 6, 14, 15, 16, 17, 22, 23, 27, 35, 36, 39, 43]\n",
      "Cluster- 2 : [2, 9, 13, 19, 20, 21, 24, 29, 32, 41, 45, 46, 48]\n",
      "Cluster- 3 : [8, 12, 31, 34, 37]\n",
      "Cluster- 4 : [1, 7, 10, 11, 18, 25, 26, 28, 30, 33, 38, 40, 44, 47, 49]\n"
     ]
    }
   ],
   "source": [
    "final = []\n",
    "for k in range(2,16):\n",
    "    max_itr = 500\n",
    "    clusters = {}\n",
    "    centroids = np.zeros((k,population_deaths_data.shape[1]))\n",
    "    C_index = random.sample(range(population_deaths_data.shape[0]), k)\n",
    "    C = population_deaths_data.values[C_index, :]\n",
    "    _c = np.zeros(C.shape)\n",
    "\n",
    "    itr = 1\n",
    "    while(distance(C,_c,None) > 0.0001):\n",
    "        for i in range(k):\n",
    "            clusters[i] = []\n",
    "        if itr == max_itr:\n",
    "            break\n",
    "\n",
    "        for i in range(population_deaths_data.shape[0]):\n",
    "            assigned_cluster = np.argmin(distance(population_deaths_data.values[i,:], C))\n",
    "            clusters[assigned_cluster].append(i)\n",
    "          \n",
    "        _c = deepcopy(C)\n",
    "        \n",
    "        for i in range(k):\n",
    "            C[i] = np.mean(population_deaths_data.values[clusters[i]], axis = 0)\n",
    "        itr += 1\n",
    "       \n",
    "    '''\n",
    "    Calculating Objective Function\n",
    "    '''\n",
    "    if (k==5):\n",
    "        print('No of Clusters(k) =',k)\n",
    "        for i in range(k):\n",
    "            print( 'Cluster-',i,':',clusters[i])\n",
    "            print\n",
    "       \n",
    "    L=0    \n",
    "    for i in range(k):\n",
    "        temp_data = population_deaths_data.values[clusters[i], :]\n",
    "        for j in range(temp_data.shape[0]):\n",
    "            L += math.pow(distance(temp_data[j], C[i], ax=0),2)\n",
    "    final.append(L)\n"
   ]
  },
  {
   "cell_type": "code",
   "execution_count": 169,
   "metadata": {},
   "outputs": [
    {
     "data": {
      "text/plain": [
       "[758191953007749.0,\n",
       " 394251040265297.4,\n",
       " 290288478673405.7,\n",
       " 180602527594782.9,\n",
       " 266130308101881.28,\n",
       " 256813862741915.25,\n",
       " 255211333419573.34,\n",
       " 256208958777128.12,\n",
       " 253631024300494.0,\n",
       " 254807925576149.3,\n",
       " 237030694688199.3,\n",
       " 254290807763935.6,\n",
       " 35852396687773.37,\n",
       " 75299677754352.25]"
      ]
     },
     "execution_count": 169,
     "metadata": {},
     "output_type": "execute_result"
    }
   ],
   "source": [
    "final"
   ]
  },
  {
   "cell_type": "code",
   "execution_count": 168,
   "metadata": {},
   "outputs": [
    {
     "data": {
      "image/png": "[encoded data removed]",
      "text/plain": [
       "<Figure size 720x720 with 1 Axes>"
      ]
     },
     "metadata": {
      "needs_background": "light"
     },
     "output_type": "display_data"
    },
    {
     "data": {
      "text/plain": [
       "<Figure size 432x288 with 0 Axes>"
      ]
     },
     "metadata": {},
     "output_type": "display_data"
    }
   ],
   "source": [
    "plt.figure(figsize=(10, 10))\n",
    "plt.plot(np.arange(2,16,1), final,linewidth=3.0)\n",
    "plt.xticks(np.arange(2,16,1))\n",
    "plt.xlabel('No of Clusters (k)')\n",
    "plt.ylabel('Objective Function value (J)')\n",
    "plt.show()\n",
    "plt.savefig('graph.png')"
   ]
  }
 ],
 "metadata": {
  "kernelspec": {
   "display_name": "Python 3",
   "language": "python",
   "name": "python3"
  },
  "language_info": {
   "codemirror_mode": {
    "name": "ipython",
    "version": 3
   },
   "file_extension": ".py",
   "mimetype": "text/x-python",
   "name": "python",
   "nbconvert_exporter": "python",
   "pygments_lexer": "ipython3",
   "version": "3.7.1"
  }
 },
 "nbformat": 4,
 "nbformat_minor": 2
}
